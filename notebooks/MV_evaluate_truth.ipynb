{
 "cells": [
  {
   "cell_type": "code",
   "execution_count": null,
   "id": "6e63d3ae-96b3-40af-b14d-98873b14e79f",
   "metadata": {},
   "outputs": [],
   "source": [
    "%matplotlib inline\n",
    "import flopy\n",
    "import matplotlib.pyplot as plt\n",
    "import matplotlib.tri as tri\n",
    "import numpy as np\n",
    "import pathlib as pl\n",
    "import xarray as xa"
   ]
  },
  {
   "cell_type": "code",
   "execution_count": null,
   "id": "af48b987-1383-4379-9b2f-5fb52c941dae",
   "metadata": {},
   "outputs": [],
   "source": [
    "fpth = pl.Path(\"../background/newMVTruth.nc\")"
   ]
  },
  {
   "cell_type": "code",
   "execution_count": null,
   "id": "6fadfadd-ff57-4cb9-9d0f-4ab2d0cf6232",
   "metadata": {},
   "outputs": [],
   "source": [
    "nc_ds = xa.open_dataset(fpth)"
   ]
  },
  {
   "cell_type": "code",
   "execution_count": null,
   "id": "ace88990-77ab-4978-aede-2a53be488fb1",
   "metadata": {},
   "outputs": [],
   "source": [
    "nc_ds"
   ]
  },
  {
   "cell_type": "code",
   "execution_count": null,
   "id": "1a11cca7-9692-4073-8852-9f758a262d1d",
   "metadata": {},
   "outputs": [],
   "source": [
    "name = \"mv\"\n",
    "ws = pl.Path(\"mv\")"
   ]
  },
  {
   "cell_type": "markdown",
   "id": "33d6efda-c577-468c-a051-df3dc25ef27f",
   "metadata": {},
   "source": [
    "## Define discretization"
   ]
  },
  {
   "cell_type": "code",
   "execution_count": null,
   "id": "c5b0abbe-85a9-4433-921b-e0a33aaf4a64",
   "metadata": {},
   "outputs": [],
   "source": [
    "top = nc_ds[\"top_layer1\"].values + 2\n",
    "top[nc_ds[\"lake_location\"].values == 1] = 11"
   ]
  },
  {
   "cell_type": "code",
   "execution_count": null,
   "id": "cbf9d4c8-fbdf-45ff-8656-2814e56bbc37",
   "metadata": {},
   "outputs": [],
   "source": [
    "nlay = 5\n",
    "nrow, ncol = top.shape\n",
    "nlay, nrow, ncol"
   ]
  },
  {
   "cell_type": "code",
   "execution_count": null,
   "id": "be5f87df-35d2-4ad4-8a32-626caf974106",
   "metadata": {},
   "outputs": [],
   "source": [
    "shape3d = (nlay, nrow, ncol)\n",
    "shape2d = (nrow, ncol)"
   ]
  },
  {
   "cell_type": "code",
   "execution_count": null,
   "id": "700483ef-59ba-40db-883d-cdef2e65c1fa",
   "metadata": {},
   "outputs": [],
   "source": [
    "delr = delc = 500."
   ]
  },
  {
   "cell_type": "code",
   "execution_count": null,
   "id": "1b312cf6-8a10-4151-80ae-efa4929028b6",
   "metadata": {},
   "outputs": [],
   "source": [
    "botm = [\n",
    "    nc_ds[\"bottom_layer1\"].values,\n",
    "    nc_ds[\"bottom_layer2\"].values,\n",
    "    nc_ds[\"bottom_layer3\"].values,\n",
    "    nc_ds[\"bottom_layer4\"].values,\n",
    "    nc_ds[\"bottom_layer5\"].values,\n",
    "]"
   ]
  },
  {
   "cell_type": "code",
   "execution_count": null,
   "id": "06538e60-646a-4299-a6c2-a7a00d5887e7",
   "metadata": {},
   "outputs": [],
   "source": [
    "lake_location = nc_ds[\"lake_location\"].values"
   ]
  },
  {
   "cell_type": "code",
   "execution_count": null,
   "id": "a325e1b8-eede-40c9-96e8-bfaeebdff77c",
   "metadata": {},
   "outputs": [],
   "source": [
    "nper = 4\n",
    "tdis_ds = [\n",
    "    (1.0, 1, 1),\n",
    "    (1.0, 1, 1),\n",
    "    (1.0, 1, 1),\n",
    "    (1.0, 1, 1),\n",
    "]"
   ]
  },
  {
   "cell_type": "code",
   "execution_count": null,
   "id": "ccb49f33-9dc8-472b-97aa-4e2dcce7db8b",
   "metadata": {},
   "outputs": [],
   "source": [
    "# make passthrough for layer 3 where the clay is absent\n",
    "idomain = np.ones((nlay, nrow, ncol))\n",
    "idomain[2,:,:] = nc_ds.clay_location.data\n",
    "idomain[idomain==0] = -1\n",
    "idomain = idomain.astype(int)"
   ]
  },
  {
   "cell_type": "markdown",
   "id": "c6b6cbd7-3de1-496d-823f-a77d0bac5f18",
   "metadata": {},
   "source": [
    "## Define starting heads"
   ]
  },
  {
   "cell_type": "code",
   "execution_count": null,
   "id": "00b85792-323a-4f86-ab2b-1e71be478435",
   "metadata": {},
   "outputs": [],
   "source": [
    "strt = [\n",
    "    nc_ds[\"head_layer1\"].values,\n",
    "    nc_ds[\"head_layer2\"].values,\n",
    "    nc_ds[\"head_layer3\"].values,\n",
    "    nc_ds[\"head_layer4\"].values,\n",
    "    nc_ds[\"head_layer5\"].values,\n",
    "]"
   ]
  },
  {
   "cell_type": "markdown",
   "id": "00c0f5d6-846b-4146-8d13-f54c177cf7b5",
   "metadata": {},
   "source": [
    "## Define aquifer properties "
   ]
  },
  {
   "cell_type": "code",
   "execution_count": null,
   "id": "3e35a34d-483c-4542-8039-48fea32cad29",
   "metadata": {},
   "outputs": [],
   "source": [
    "kvkh_ratio = 0.4"
   ]
  },
  {
   "cell_type": "code",
   "execution_count": null,
   "id": "f737ed72-6f03-4955-abe0-32f9deb8bc9e",
   "metadata": {},
   "outputs": [],
   "source": [
    "lake_location = nc_ds[\"lake_location\"].to_numpy()"
   ]
  },
  {
   "cell_type": "code",
   "execution_count": null,
   "id": "a6211f69-e061-41fb-993c-08a3b1e23b41",
   "metadata": {},
   "outputs": [],
   "source": [
    "clay_location = nc_ds[\"clay_location\"].to_numpy()"
   ]
  },
  {
   "cell_type": "code",
   "execution_count": null,
   "id": "556c8f55-8388-4490-9383-30930ff12cda",
   "metadata": {},
   "outputs": [],
   "source": [
    "k = np.array(\n",
    "    [nc_ds[f'k1_layer{i+1}'].data for i in range(5)])\n",
    "k33 = k.copy()*kvkh_ratio"
   ]
  },
  {
   "cell_type": "code",
   "execution_count": null,
   "id": "40bb9781-1758-4d74-9400-3d7ab8bf9e21",
   "metadata": {},
   "outputs": [],
   "source": [
    "k1 = k[0, :, :]\n",
    "k1[lake_location == 1] = 2000000.0\n",
    "k[0, :, :] = k1"
   ]
  },
  {
   "cell_type": "code",
   "execution_count": null,
   "id": "43f2a137-06cc-414a-931a-a1a40284ac4a",
   "metadata": {},
   "outputs": [],
   "source": [
    "k1 = k33[0, :, :]\n",
    "k1[lake_location == 1] = 2000000.0\n",
    "k33[0, :, :] = k1"
   ]
  },
  {
   "cell_type": "markdown",
   "id": "af916dd4-cbe0-4585-97ff-3a60c5df6fe8",
   "metadata": {},
   "source": [
    "## Define the recharge"
   ]
  },
  {
   "cell_type": "code",
   "execution_count": null,
   "id": "87a1c002-ebd7-4091-a923-27d1df06bec0",
   "metadata": {},
   "outputs": [],
   "source": [
    "recharge = np.full(shape2d, 0.00365, dtype=float)\n",
    "recharge[lake_location == 1] = 0.00205"
   ]
  },
  {
   "cell_type": "markdown",
   "id": "66669a1c-e164-48f2-b1b6-0182fa808349",
   "metadata": {},
   "source": [
    "## Define the river"
   ]
  },
  {
   "cell_type": "code",
   "execution_count": null,
   "id": "491b6405-9512-43c4-a7e5-e8acd675447e",
   "metadata": {},
   "outputs": [],
   "source": [
    "nriv = 18\n",
    "stage = np.linspace(1.75, 0.05, nriv)\n",
    "stage"
   ]
  },
  {
   "cell_type": "code",
   "execution_count": null,
   "id": "5a69e10d-c1b4-49b6-884e-05aae37c10ff",
   "metadata": {},
   "outputs": [],
   "source": [
    "riv_bndname = [\"PF\", \"PF\"] + [\"RIV\" for i in range(nriv - 2)]"
   ]
  },
  {
   "cell_type": "code",
   "execution_count": null,
   "id": "bd95a71c-f290-40f5-8b9e-cc1b315fe3b1",
   "metadata": {},
   "outputs": [],
   "source": [
    "river_spd = [(0, i + 22, 8, float(stage[i]), 1e5, float(stage[i]) - 1., riv_bndname[i]) for i in range(nriv)]\n",
    "river_spd"
   ]
  },
  {
   "cell_type": "markdown",
   "id": "250cec40-29bc-41ce-831c-f0247a1b63ff",
   "metadata": {},
   "source": [
    "## Define the wells"
   ]
  },
  {
   "cell_type": "code",
   "execution_count": null,
   "id": "d105deeb-57bd-421c-b2e2-decc4fd5de01",
   "metadata": {},
   "outputs": [],
   "source": [
    "well_spd = {\n",
    "    1: [\n",
    "        (4, 5, 14, -67000),\n",
    "        (4, 34, 15, -268000),\n",
    "    ],\n",
    "    2: [\n",
    "        (4, 5, 14, -67000),\n",
    "        (4, 32, 5, -268000),\n",
    "    ],\n",
    "    3: [\n",
    "        (4, 5, 14, -67000),\n",
    "    ],\n",
    "}"
   ]
  },
  {
   "cell_type": "markdown",
   "id": "72dcc898-7916-4af4-bfbb-56df52ad028d",
   "metadata": {},
   "source": [
    "## Define the drain for the extra run"
   ]
  },
  {
   "cell_type": "code",
   "execution_count": null,
   "id": "e75ec40a-9f57-46ba-94e1-15bc70167f0d",
   "metadata": {},
   "outputs": [],
   "source": [
    "drn_spd = {\n",
    "    3: [\n",
    "        (0, 22, 19, 2.0, 4e6)\n",
    "    ],\n",
    "}"
   ]
  },
  {
   "cell_type": "markdown",
   "id": "a08a5926-d3a3-4dd2-884e-272e410804f6",
   "metadata": {},
   "source": [
    "## Define the head observations"
   ]
  },
  {
   "cell_type": "code",
   "execution_count": null,
   "id": "49dbc37d-6aed-4a0e-bdc9-10de0597681d",
   "metadata": {},
   "outputs": [],
   "source": [
    "obs_rc_locs = [\n",
    "    (2, 17),\n",
    "    (3, 10),\n",
    "    (6, 20),\n",
    "    (12, 22),\n",
    "    (14, 11),\n",
    "    (16, 18),\n",
    "    (17, 1),\n",
    "    (18, 6),\n",
    "    (19, 11),\n",
    "    (18, 22),\n",
    "    (26, 5),\n",
    "    (27, 11),\n",
    "    (28, 23),\n",
    "    (30, 6),\n",
    "    (33, 14),\n",
    "    (36, 1),\n",
    "    (37, 22),\n",
    "]"
   ]
  },
  {
   "cell_type": "code",
   "execution_count": null,
   "id": "c465a272-77a8-4168-b31a-fa47b359d53d",
   "metadata": {},
   "outputs": [],
   "source": [
    "np.array(botm)[:, 3, 10]"
   ]
  },
  {
   "cell_type": "code",
   "execution_count": null,
   "id": "c260533e-80d1-40a5-8b63-f8c4c71db6f9",
   "metadata": {},
   "outputs": [],
   "source": [
    "well_depth = [\n",
    "    -200.74, -100.00, -100.00, -100.00, -224.62, \n",
    "    -100.00, -100.00, -100.00, -100.00, -100.00,\n",
    "    -100.00, -100.00, -100.00, -100.00, -233.22,\n",
    "    -100.00, -100.00,\n",
    "]"
   ]
  },
  {
   "cell_type": "code",
   "execution_count": null,
   "id": "bb2e33a3-3d78-40e5-aa9b-f8769e7ea23f",
   "metadata": {},
   "outputs": [],
   "source": [
    "wt_obs = []\n",
    "aq_layer = []\n",
    "aq_obs = []\n",
    "for idx, (i, j) in enumerate(obs_rc_locs):\n",
    "    iloc = (i, j)\n",
    "    tag = \"head_layer1\"\n",
    "    wt_obs.append(float(nc_ds[tag].values[iloc]))\n",
    "    wz = well_depth[idx]\n",
    "    zcell = np.array(botm)[:, i, j]\n",
    "    klay = 0\n",
    "    for kk in range(1, nlay):\n",
    "        z0 = zcell[kk - 1]\n",
    "        z1 = zcell[kk]\n",
    "        if wz < z0 and wz >= z1:\n",
    "            klay = kk\n",
    "            break\n",
    "    tag = f\"head_layer{klay + 1}\"\n",
    "    aq_layer.append(klay)\n",
    "    aq_obs.append(float(nc_ds[tag].values[iloc]))"
   ]
  },
  {
   "cell_type": "code",
   "execution_count": null,
   "id": "a18b2ab7-80da-4ee1-bb0f-8ec8699ecc17",
   "metadata": {},
   "outputs": [],
   "source": [
    "print(wt_obs)"
   ]
  },
  {
   "cell_type": "code",
   "execution_count": null,
   "id": "9132f94e-c547-4c07-9c5f-60b635a8e57c",
   "metadata": {},
   "outputs": [],
   "source": [
    "print(aq_layer)"
   ]
  },
  {
   "cell_type": "code",
   "execution_count": null,
   "id": "e5b72763-c4f8-4379-8dad-98fbbbfe4217",
   "metadata": {},
   "outputs": [],
   "source": [
    "print(aq_obs)"
   ]
  },
  {
   "cell_type": "code",
   "execution_count": null,
   "id": "275e4de7-5c53-46e3-8f3c-b29a954eac02",
   "metadata": {},
   "outputs": [],
   "source": [
    "cal_loc_wt = [(0, i, j) for i, j in obs_rc_locs]"
   ]
  },
  {
   "cell_type": "code",
   "execution_count": null,
   "id": "dd311b16-64ef-439b-854d-c257801d71b7",
   "metadata": {},
   "outputs": [],
   "source": [
    "cal_loc_aq = [(aq_layer[idx], i, j) for idx, (i, j) in enumerate(obs_rc_locs)]"
   ]
  },
  {
   "cell_type": "code",
   "execution_count": null,
   "id": "f8312cfa-6c9f-4c1e-9027-7cf8836de87c",
   "metadata": {},
   "outputs": [],
   "source": [
    "obs_loc = {}\n",
    "obs_loc[\"mv.gwf.wt.csv\"] = [(f\"WT{idx + 1: 02d}\", \"HEAD\", (0, i, j)) for idx, (i, j) in enumerate(obs_rc_locs)]"
   ]
  },
  {
   "cell_type": "code",
   "execution_count": null,
   "id": "bb551a84-cde2-49fc-8f38-9714e601ae52",
   "metadata": {},
   "outputs": [],
   "source": [
    "obs_loc[\"mv.gwf.aq.csv\"] = [(f\"AQ{idx + 1: 02d}\", \"HEAD\", (aq_layer[idx], i, j)) for idx, (i, j) in enumerate(obs_rc_locs)]"
   ]
  },
  {
   "cell_type": "code",
   "execution_count": null,
   "id": "3e1b6c4f-6525-46a7-8a77-579d313af127",
   "metadata": {},
   "outputs": [],
   "source": [
    "obs_loc[\"mv.gwf.scenario.csv\"] = [\n",
    "    (\"Lake-N\", \"HEAD\", (0, 3, 3)),\n",
    "    (\"Lake-S\", \"HEAD\", (0, 15, 8)),\n",
    "    (\"Reilly\", \"HEAD\", (4, 5, 14)),\n",
    "    (\"V1\", \"HEAD\", (4, 34, 15)),\n",
    "    (\"V2\", \"HEAD\", (4, 32, 5)),\n",
    "    (\"DW\", \"HEAD\", (0, 22, 19)),\n",
    "]\n"
   ]
  },
  {
   "cell_type": "code",
   "execution_count": null,
   "id": "1f7f5f26-5af8-482f-8e1d-ca7a65f359d4",
   "metadata": {},
   "outputs": [],
   "source": [
    "obs_loc"
   ]
  },
  {
   "cell_type": "markdown",
   "id": "c518e0a1-4a8a-43b0-b0d1-9c151c4000e2",
   "metadata": {},
   "source": [
    "## Build the model"
   ]
  },
  {
   "cell_type": "code",
   "execution_count": null,
   "id": "034bdbd9-c3e9-4a13-a13f-d3cfff49d2e6",
   "metadata": {},
   "outputs": [],
   "source": [
    "sim = flopy.mf6.MFSimulation(sim_name=name, sim_ws=ws)"
   ]
  },
  {
   "cell_type": "code",
   "execution_count": null,
   "id": "5154f801-a8c7-46ed-9f3c-9b423a8a8b44",
   "metadata": {},
   "outputs": [],
   "source": [
    "tdis = flopy.mf6.ModflowTdis(sim, nper=nper, perioddata=tdis_ds, time_units=\"DAY\")"
   ]
  },
  {
   "cell_type": "code",
   "execution_count": null,
   "id": "aea21675-c38f-49ed-9c47-04ec08aa5ed4",
   "metadata": {},
   "outputs": [],
   "source": [
    "ims = flopy.mf6.ModflowIms(sim, complexity=\"simple\", outer_maximum=200, inner_maximum=100, outer_dvclose=1e-5, inner_dvclose=1e-6)"
   ]
  },
  {
   "cell_type": "code",
   "execution_count": null,
   "id": "9cd1de72-edaa-498e-8c62-f553603bfe70",
   "metadata": {},
   "outputs": [],
   "source": [
    "gwf = flopy.mf6.ModflowGwf(sim, modelname=name, save_flows=True)"
   ]
  },
  {
   "cell_type": "code",
   "execution_count": null,
   "id": "ba619573-ff3f-465c-a738-52347366067a",
   "metadata": {},
   "outputs": [],
   "source": [
    "dis = flopy.mf6.ModflowGwfdis(gwf, \n",
    "                              length_units=\"FEET\", \n",
    "                              nlay=nlay, \n",
    "                              nrow=nrow, \n",
    "                              ncol=ncol, \n",
    "                              delr=delr,\n",
    "                              delc=delc,\n",
    "                              top=top,\n",
    "                              botm=botm,\n",
    "                              idomain=idomain\n",
    "                             )"
   ]
  },
  {
   "cell_type": "code",
   "execution_count": null,
   "id": "76eb9b99-4b4f-49fb-8c79-ca8f5523c273",
   "metadata": {},
   "outputs": [],
   "source": [
    "ic = flopy.mf6.ModflowGwfic(gwf, strt=strt)"
   ]
  },
  {
   "cell_type": "code",
   "execution_count": null,
   "id": "3d247ce6-89d9-4a46-89ac-86d1eebba6aa",
   "metadata": {},
   "outputs": [],
   "source": [
    "npf = flopy.mf6.ModflowGwfnpf(gwf, save_specific_discharge=True, k=k, k33=k33)"
   ]
  },
  {
   "cell_type": "code",
   "execution_count": null,
   "id": "0d371424-db95-49cc-ab73-052f1a4016ea",
   "metadata": {},
   "outputs": [],
   "source": [
    "rch = flopy.mf6.ModflowGwfrcha(gwf, recharge=recharge)"
   ]
  },
  {
   "cell_type": "code",
   "execution_count": null,
   "id": "a7033187-8c88-4686-88ed-209ed2b741c3",
   "metadata": {},
   "outputs": [],
   "source": [
    "riv_obs = {\"riv.obs.csv\": [(\"PF\", \"RIV\", \"PF\"), (\"RIVFLOW\", \"RIV\", \"RIV\")]}"
   ]
  },
  {
   "cell_type": "code",
   "execution_count": null,
   "id": "8b6c61f1-97ef-4cb8-9db0-0cbcc347fa8e",
   "metadata": {},
   "outputs": [],
   "source": [
    "riv = flopy.mf6.ModflowGwfriv(gwf, boundnames=True, \n",
    "                              print_flows=True, \n",
    "                              maxbound=nriv, \n",
    "                              stress_period_data=river_spd, \n",
    "                              observations=riv_obs\n",
    "                             )"
   ]
  },
  {
   "cell_type": "code",
   "execution_count": null,
   "id": "2c47fe04-1498-420b-90eb-949c274db1ba",
   "metadata": {},
   "outputs": [],
   "source": [
    "wel = flopy.mf6.ModflowGwfwel(gwf, stress_period_data=well_spd, maxbound=2, pname=\"pwell\")"
   ]
  },
  {
   "cell_type": "code",
   "execution_count": null,
   "id": "5d95f941-4007-4293-afb9-50d06f227bd1",
   "metadata": {},
   "outputs": [],
   "source": [
    "drn = flopy.mf6.ModflowGwfdrn(gwf, stress_period_data=drn_spd, maxbound=1, pname=\"dewater\")"
   ]
  },
  {
   "cell_type": "code",
   "execution_count": null,
   "id": "81eb9757-b5ff-4a1f-aa97-43f177b60e00",
   "metadata": {},
   "outputs": [],
   "source": [
    "oc = flopy.mf6.ModflowGwfoc(\n",
    "    gwf,\n",
    "    head_filerecord=f\"{name}.hds\",\n",
    "    budget_filerecord=f\"{name}.cbc\",\n",
    "    saverecord=[(\"HEAD\", \"ALL\"), (\"BUDGET\", \"ALL\")],\n",
    ")"
   ]
  },
  {
   "cell_type": "code",
   "execution_count": null,
   "id": "97804cde-030b-42a0-8ee3-7a596674f313",
   "metadata": {},
   "outputs": [],
   "source": [
    "gwf_obs = flopy.mf6.ModflowUtlobs(gwf, print_input=True, continuous=obs_loc)"
   ]
  },
  {
   "cell_type": "code",
   "execution_count": null,
   "id": "828b3eb5-587e-4af7-895d-7c37e0f2b68f",
   "metadata": {},
   "outputs": [],
   "source": [
    "sim.write_simulation()"
   ]
  },
  {
   "cell_type": "code",
   "execution_count": null,
   "id": "8eead6c9-4ca5-46c9-a342-703475a0a752",
   "metadata": {},
   "outputs": [],
   "source": [
    "sim.run_simulation()"
   ]
  },
  {
   "cell_type": "markdown",
   "id": "6a783d07-7253-4a65-9803-fa25c418b37b",
   "metadata": {},
   "source": [
    "## Plot the results\n",
    "\n",
    "### Model Properties"
   ]
  },
  {
   "cell_type": "code",
   "execution_count": null,
   "id": "bfd6dd78-4aea-4908-a354-5c02fae011c4",
   "metadata": {},
   "outputs": [],
   "source": [
    "with flopy.plot.styles.USGSMap():\n",
    "    fig, axs = plt.subplots(1, 5, figsize=(9, 3), sharey=True)\n",
    "    fig.suptitle(\"Hydraulic conductivity\")\n",
    "\n",
    "    for idx in range(nlay):\n",
    "        ax = axs[idx]\n",
    "        mm = flopy.plot.PlotMapView(model=gwf, layer=idx, ax=ax)\n",
    "        mm.plot_array(k[idx], masked_values=[2000000.0])\n",
    "        ax.set_title(f\"Layer {idx + 1}\")"
   ]
  },
  {
   "cell_type": "code",
   "execution_count": null,
   "id": "752540d6-4ac7-4fb5-86b4-773b5722b08d",
   "metadata": {},
   "outputs": [],
   "source": [
    "with flopy.plot.styles.USGSMap():\n",
    "    fig, axs = plt.subplots(1, 5, figsize=(9, 3), sharey=True)\n",
    "    fig.suptitle(\"Bottom Elevation\")\n",
    "\n",
    "    for idx in range(nlay):\n",
    "        ax = axs[idx]\n",
    "        mm = flopy.plot.PlotMapView(model=gwf, layer=idx, ax=ax)\n",
    "        mm.plot_array(botm[idx])\n",
    "        ax.set_title(f\"Layer {idx + 1}\")"
   ]
  },
  {
   "cell_type": "code",
   "execution_count": null,
   "id": "a63ca483-5042-444d-aa32-02258081886c",
   "metadata": {},
   "outputs": [],
   "source": [
    "with flopy.plot.styles.USGSMap():\n",
    "    fig, axs = plt.subplots(1, 5, figsize=(9, 3), sharey=True)\n",
    "    fig.suptitle(\"Cell thickness\")\n",
    "    z = gwf.modelgrid.cell_thickness\n",
    "\n",
    "    for idx in range(nlay):\n",
    "        ax = axs[idx]\n",
    "        mm = flopy.plot.PlotMapView(model=gwf, layer=idx, ax=ax)\n",
    "        mm.plot_array(z[idx])\n",
    "        ax.set_title(f\"Layer {idx + 1}\")"
   ]
  },
  {
   "cell_type": "markdown",
   "id": "1b08f153-6492-43a5-94f3-b2c10a4ed925",
   "metadata": {},
   "source": [
    "### Simulated Heads and Drawdown"
   ]
  },
  {
   "cell_type": "code",
   "execution_count": null,
   "id": "f7482c29-66d2-4dbe-b296-744f5c5c3e32",
   "metadata": {},
   "outputs": [],
   "source": [
    "levels = np.arange(2, 20., 2)"
   ]
  },
  {
   "cell_type": "markdown",
   "id": "2c7f878a-6fcf-4ae6-a5da-0caaf48c9d51",
   "metadata": {},
   "source": [
    "#### Calibration"
   ]
  },
  {
   "cell_type": "code",
   "execution_count": null,
   "id": "0783688e-13e7-4642-8b11-3d9ec4354f1d",
   "metadata": {},
   "outputs": [],
   "source": [
    "hds = gwf.output.head().get_data(totim=1.0)"
   ]
  },
  {
   "cell_type": "code",
   "execution_count": null,
   "id": "df397e74-d4fa-4e94-a585-ebd91af165cd",
   "metadata": {},
   "outputs": [],
   "source": [
    "with flopy.plot.styles.USGSMap():\n",
    "    fig, axs = plt.subplots(1, 5, figsize=(9, 3), sharey=True)\n",
    "    fig.suptitle(\"Heads - calibration\")\n",
    "\n",
    "    for idx in range(nlay):\n",
    "        ax = axs[idx]\n",
    "        mm = flopy.plot.PlotMapView(model=gwf, layer=idx, ax=ax)\n",
    "        mm.plot_array(hds)\n",
    "        cs = mm.contour_array(hds, colors=\"white\", levels=levels)\n",
    "        plt.clabel(cs, inline=True, fontsize=8)\n",
    "        ax.set_title(f\"Layer {idx + 1}\")"
   ]
  },
  {
   "cell_type": "code",
   "execution_count": null,
   "id": "2d458dc2-4a41-4dfa-a29c-ee47423041b3",
   "metadata": {},
   "outputs": [],
   "source": [
    "v = gwf.output.budget().get_data(text=\"riv\", totim=1.0)[0][\"q\"]\n",
    "print(f\"River infiltration: {np.all(v > 0)}\\n{v}\")"
   ]
  },
  {
   "cell_type": "markdown",
   "id": "8fb5a0b7-d463-494c-b4e3-f47a704f2371",
   "metadata": {},
   "source": [
    "##### Calculate the residuals"
   ]
  },
  {
   "cell_type": "code",
   "execution_count": null,
   "id": "d40f40ac-30f5-49ba-89a9-1612d08960f9",
   "metadata": {},
   "outputs": [],
   "source": [
    "sim_wt = np.array([hds[idx] for idx in cal_loc_wt])"
   ]
  },
  {
   "cell_type": "code",
   "execution_count": null,
   "id": "6aec5fbc-770c-4857-bd82-87f2a586ee0e",
   "metadata": {},
   "outputs": [],
   "source": [
    "resid_wt = sim_wt - np.array(wt_obs)\n",
    "resid_wt"
   ]
  },
  {
   "cell_type": "code",
   "execution_count": null,
   "id": "133216a5-2717-41d0-a98b-570d9a0f411e",
   "metadata": {},
   "outputs": [],
   "source": [
    "sim_aq = np.array([hds[idx] for idx in cal_loc_aq])"
   ]
  },
  {
   "cell_type": "code",
   "execution_count": null,
   "id": "4bebba7e-d053-4532-8639-78ae2bbe3984",
   "metadata": {},
   "outputs": [],
   "source": [
    "resid_aq = sim_wt - np.array(aq_obs)\n",
    "resid_aq"
   ]
  },
  {
   "cell_type": "code",
   "execution_count": null,
   "id": "17858450-fdca-49ed-8201-890f5bd95e9e",
   "metadata": {},
   "outputs": [],
   "source": [
    "resid_gb = np.concatenate((resid_wt, resid_aq))"
   ]
  },
  {
   "cell_type": "code",
   "execution_count": null,
   "id": "5f5eb423-2ef6-4b67-a442-04ee97c3d247",
   "metadata": {},
   "outputs": [],
   "source": [
    "print(f\"Water Table Statistics\\nMean Error: {resid_wt.mean()} ft.\\nRMSE:       {np.sqrt((resid_wt**2).sum()) / resid_wt.shape[0]} ft.\")"
   ]
  },
  {
   "cell_type": "code",
   "execution_count": null,
   "id": "cb683598-999d-4780-8ab6-ca823a31b444",
   "metadata": {},
   "outputs": [],
   "source": [
    "print(f\"Lower Aquifer Statistics\\nMean Error: {resid_aq.mean()} ft.\\nRMSE:       {np.sqrt((resid_aq**2).sum()) / resid_aq.shape[0]} ft.\")"
   ]
  },
  {
   "cell_type": "code",
   "execution_count": null,
   "id": "be49b46d-7ac1-447d-b3de-2f17f02e6511",
   "metadata": {},
   "outputs": [],
   "source": [
    "print(f\"Global Statistics\\nMean Error: {resid_gb.mean()} ft.\\nRMSE:       {np.sqrt((resid_gb**2).sum()) / resid_gb.shape[0]} ft.\")"
   ]
  },
  {
   "cell_type": "markdown",
   "id": "4b39c42d-e78f-4c34-a075-46706b051798",
   "metadata": {},
   "source": [
    "##### Plot the residuals"
   ]
  },
  {
   "cell_type": "code",
   "execution_count": null,
   "id": "e926ec08-6e15-4482-8907-bdf0621f3151",
   "metadata": {},
   "outputs": [],
   "source": [
    "xy = [(float(gwf.modelgrid.xcellcenters[i, j]), float(gwf.modelgrid.ycellcenters[i, j])) for i, j in obs_rc_locs]"
   ]
  },
  {
   "cell_type": "code",
   "execution_count": null,
   "id": "e73f8e1b-be7c-4e60-903f-76748bf24ee2",
   "metadata": {},
   "outputs": [],
   "source": [
    "x, y = np.array(xy)[:, 0], np.array(xy)[:, 1]"
   ]
  },
  {
   "cell_type": "code",
   "execution_count": null,
   "id": "12954691-f9a4-4f49-9c56-516074dcff42",
   "metadata": {},
   "outputs": [],
   "source": [
    "grid_x, grid_y = np.meshgrid(gwf.modelgrid.xycenters[0],\n",
    "                             gwf.modelgrid.xycenters[1])"
   ]
  },
  {
   "cell_type": "code",
   "execution_count": null,
   "id": "67a4e976-ec65-456c-b1a1-8ab54fe06902",
   "metadata": {},
   "outputs": [],
   "source": [
    "# Linearly interpolate the data (x, y) on a grid defined by (xi, yi).\n",
    "triang = tri.Triangulation(x, y)"
   ]
  },
  {
   "cell_type": "code",
   "execution_count": null,
   "id": "e0c08156-75b4-4ed0-84bb-ffc5c6d20982",
   "metadata": {},
   "outputs": [],
   "source": [
    "interpolator = tri.LinearTriInterpolator(triang, resid_wt)\n",
    "grid_resid_wt = interpolator(grid_x, grid_y)"
   ]
  },
  {
   "cell_type": "code",
   "execution_count": null,
   "id": "f1d14451-9333-43de-a8cf-fcabfbcca65d",
   "metadata": {},
   "outputs": [],
   "source": [
    "interpolator = tri.LinearTriInterpolator(triang, resid_aq)\n",
    "grid_resid_aq = interpolator(grid_x, grid_y)"
   ]
  },
  {
   "cell_type": "code",
   "execution_count": null,
   "id": "4221582f-6e93-4e6a-9a49-03f63b526643",
   "metadata": {},
   "outputs": [],
   "source": [
    "resid_levels = np.arange(-2, 2.25, .25)"
   ]
  },
  {
   "cell_type": "code",
   "execution_count": null,
   "id": "2db3b865-9c50-4204-b478-cafd4a5f440b",
   "metadata": {},
   "outputs": [],
   "source": [
    "with flopy.plot.styles.USGSMap():\n",
    "    fig, axs = plt.subplots(1, 2, figsize=(8, 5), sharey=True)\n",
    "    fig.suptitle(\"Residuals\")\n",
    "\n",
    "    ax = axs[0]\n",
    "    ax.set_xlim(0, 12500)\n",
    "    ax.set_ylim(0, 20000)\n",
    "    mm = flopy.plot.PlotMapView(model=gwf, ax=ax, extent=gwf.modelgrid.extent)\n",
    "    mm.plot_array(lake_location, cmap=\"Blues_r\", masked_values=[0])\n",
    "    mm.plot_grid(lw=0.5, color=\"0.5\")\n",
    "    ax.scatter(x, y, s=3, c=\"black\")\n",
    "    for i, txt in enumerate(resid_wt):\n",
    "        ax.annotate(f\"{txt:.2f}\", (x[i], y[i]))\n",
    "    cs = ax.contour(grid_x, grid_y, grid_resid_wt, levels=resid_levels, linewidths=0.75, colors=\"red\")\n",
    "    plt.clabel(cs, inline=True, fontsize=8)\n",
    "    ax.set_title(\"Water Table\")\n",
    "\n",
    "    ax = axs[1]\n",
    "    ax.set_xlim(0, 12500)\n",
    "    ax.set_ylim(0, 20000)\n",
    "    mm = flopy.plot.PlotMapView(model=gwf, ax=ax, extent=gwf.modelgrid.extent)\n",
    "    mm.plot_grid(lw=0.5, color=\"0.5\")\n",
    "    ax.scatter(x, y, s=3, c=\"black\")\n",
    "    for i, txt in enumerate(resid_aq):\n",
    "        ax.annotate(f\"{txt:.2f}\", (x[i], y[i]), clip_on=False)\n",
    "    cs = ax.contour(grid_x, grid_y, grid_resid_aq, levels=resid_levels, linewidths=0.75, colors=\"red\")\n",
    "    plt.clabel(cs, inline=True, fontsize=8)\n",
    "    ax.set_title(\"Lower Aquifer\")"
   ]
  },
  {
   "cell_type": "markdown",
   "id": "e7527830-aa92-402a-a574-f82cd7f18592",
   "metadata": {},
   "source": [
    "**NOTE:** There is spatial bias in the simulated results (*i.e.*, residuals are positive in the Northeast and negative in the Southwest)."
   ]
  },
  {
   "cell_type": "markdown",
   "id": "d7d3101c-5a98-4452-879f-d8bc6a0c2416",
   "metadata": {},
   "source": [
    "#### Case A"
   ]
  },
  {
   "cell_type": "code",
   "execution_count": null,
   "id": "2a2b2162-29bd-4b02-a85c-ec9d259bedf0",
   "metadata": {},
   "outputs": [],
   "source": [
    "with flopy.plot.styles.USGSMap():\n",
    "    fig, axs = plt.subplots(1, 5, figsize=(9, 3), sharey=True)\n",
    "    fig.suptitle(\"Heads - Case A\")\n",
    "    hds = gwf.output.head().get_data(totim=2.0)\n",
    "\n",
    "    for idx in range(nlay):\n",
    "        ax = axs[idx]\n",
    "        mm = flopy.plot.PlotMapView(model=gwf, layer=idx, ax=ax)\n",
    "        mm.plot_array(hds)\n",
    "        cs = mm.contour_array(hds, colors=\"white\", levels=levels)\n",
    "        plt.clabel(cs, inline=True, fontsize=8)\n",
    "        ax.set_title(f\"Layer {idx + 1}\")"
   ]
  },
  {
   "cell_type": "code",
   "execution_count": null,
   "id": "44eee2bf-2f01-4197-805f-5620741ff839",
   "metadata": {},
   "outputs": [],
   "source": [
    "with flopy.plot.styles.USGSMap():\n",
    "    fig, axs = plt.subplots(1, 5, figsize=(9, 3), sharey=True)\n",
    "    fig.suptitle(\"Drawdown - Case A\")\n",
    "    ddn = gwf.output.head().get_data(totim=1.0) - gwf.output.head().get_data(totim=2.0) \n",
    "\n",
    "    ddn_max = ddn[:, 16, :].max()\n",
    "\n",
    "    for idx in range(nlay):\n",
    "        ax = axs[idx]\n",
    "        mm = flopy.plot.PlotMapView(model=gwf, layer=idx, ax=ax)\n",
    "        mm.plot_array(ddn)\n",
    "        cs = mm.contour_array(ddn, colors=\"white\", levels=levels)\n",
    "        plt.clabel(cs, inline=True, fontsize=8)\n",
    "        ax.set_title(f\"Layer {idx + 1}\")"
   ]
  },
  {
   "cell_type": "code",
   "execution_count": null,
   "id": "65c4431a-60a1-49e9-8bc8-34c14aab9566",
   "metadata": {},
   "outputs": [],
   "source": [
    "print(f\"Maximum Drawdown: {ddn_max}\")"
   ]
  },
  {
   "cell_type": "code",
   "execution_count": null,
   "id": "709617c9-0b57-483c-a2d9-86411cb51f3d",
   "metadata": {},
   "outputs": [],
   "source": [
    "v = gwf.output.budget().get_data(text=\"riv\", totim=2.0)[0][\"q\"]\n",
    "print(f\"Induced river infiltration: {np.all(v > 0)}\\n{v}\")"
   ]
  },
  {
   "cell_type": "markdown",
   "id": "614783fc-3898-4d2a-8636-26c774be46f1",
   "metadata": {},
   "source": [
    " #### Case B"
   ]
  },
  {
   "cell_type": "code",
   "execution_count": null,
   "id": "b07a2a3d-ae75-42a2-8fdf-9a7b37457eda",
   "metadata": {},
   "outputs": [],
   "source": [
    "with flopy.plot.styles.USGSMap():\n",
    "    fig, axs = plt.subplots(1, 5, figsize=(9, 3), sharey=True)\n",
    "    fig.suptitle(\"Heads - Case B\")\n",
    "    hds = gwf.output.head().get_data(totim=3.0)\n",
    "\n",
    "    for idx in range(nlay):\n",
    "        ax = axs[idx]\n",
    "        mm = flopy.plot.PlotMapView(model=gwf, layer=idx, ax=ax)\n",
    "        mm.plot_array(hds)\n",
    "        cs = mm.contour_array(hds, colors=\"white\", levels=levels)\n",
    "        plt.clabel(cs, inline=True, fontsize=8)\n",
    "        ax.set_title(f\"Layer {idx + 1}\")"
   ]
  },
  {
   "cell_type": "code",
   "execution_count": null,
   "id": "00e65025-f1a0-4e4e-839f-9978b4725746",
   "metadata": {},
   "outputs": [],
   "source": [
    "with flopy.plot.styles.USGSMap():\n",
    "    fig, axs = plt.subplots(1, 5, figsize=(9, 3), sharey=True)\n",
    "    fig.suptitle(\"Drawdown - Case B\")\n",
    "    ddn = gwf.output.head().get_data(totim=1.0) - gwf.output.head().get_data(totim=3.0) \n",
    "    \n",
    "    ddn_max = ddn[:, 16, :].max()\n",
    "    \n",
    "    for idx in range(nlay):\n",
    "        ax = axs[idx]\n",
    "        mm = flopy.plot.PlotMapView(model=gwf, layer=idx, ax=ax)\n",
    "        mm.plot_array(ddn)\n",
    "        cs = mm.contour_array(ddn, colors=\"white\", levels=levels)\n",
    "        plt.clabel(cs, inline=True, fontsize=8)\n",
    "        ax.set_title(f\"Layer {idx + 1}\")"
   ]
  },
  {
   "cell_type": "code",
   "execution_count": null,
   "id": "c641de67-c8fc-470d-ba51-f4e8e0226c89",
   "metadata": {},
   "outputs": [],
   "source": [
    "print(f\"Maximum Drawdown: {ddn_max}\")"
   ]
  },
  {
   "cell_type": "code",
   "execution_count": null,
   "id": "75fd4b53-7468-405c-9cab-78f3a1598d76",
   "metadata": {},
   "outputs": [],
   "source": [
    "v = gwf.output.budget().get_data(text=\"riv\", totim=3.0)[0][\"q\"]\n",
    "print(f\"Induced river infiltration: {np.all(v > 0)}\\n{v}\")"
   ]
  },
  {
   "cell_type": "markdown",
   "id": "cfe32fd8-0939-47d3-b7b2-9933b69d12c7",
   "metadata": {},
   "source": [
    "#### Extra Run"
   ]
  },
  {
   "cell_type": "code",
   "execution_count": null,
   "id": "6bbdbdc1-6520-47d1-8271-e159f88c6a0c",
   "metadata": {},
   "outputs": [],
   "source": [
    "with flopy.plot.styles.USGSMap():\n",
    "    fig, axs = plt.subplots(1, 5, figsize=(9, 3), sharey=True)\n",
    "    fig.suptitle(\"Heads - Extra Run\")\n",
    "    hds = gwf.output.head().get_data(totim=4.0)\n",
    "\n",
    "    for idx in range(nlay):\n",
    "        ax = axs[idx]\n",
    "        mm = flopy.plot.PlotMapView(model=gwf, layer=idx, ax=ax)\n",
    "        mm.plot_array(hds)\n",
    "        cs = mm.contour_array(hds, colors=\"white\", levels=levels)\n",
    "        plt.clabel(cs, inline=True, fontsize=8)\n",
    "        ax.set_title(f\"Layer {idx + 1}\")"
   ]
  },
  {
   "cell_type": "code",
   "execution_count": null,
   "id": "23555421-074e-40e0-b324-dfa3915f9657",
   "metadata": {},
   "outputs": [],
   "source": [
    "with flopy.plot.styles.USGSMap():\n",
    "    fig, axs = plt.subplots(1, 5, figsize=(9, 3), sharey=True)\n",
    "    fig.suptitle(\"Drawdown - Extra Run\")\n",
    "    ddn = gwf.output.head().get_data(totim=1.0) - gwf.output.head().get_data(totim=4.0) \n",
    "    \n",
    "    ddn_max = ddn[:, 16, :].max()\n",
    "\n",
    "    for idx in range(nlay):\n",
    "        ax = axs[idx]\n",
    "        mm = flopy.plot.PlotMapView(model=gwf, layer=idx, ax=ax)\n",
    "        mm.plot_array(ddn)\n",
    "        cs = mm.contour_array(ddn, colors=\"white\", levels=levels)\n",
    "        plt.clabel(cs, inline=True, fontsize=8)\n",
    "        ax.set_title(f\"Layer {idx + 1}\")"
   ]
  },
  {
   "cell_type": "code",
   "execution_count": null,
   "id": "c450e426-72c6-46ca-a73f-0de2afaec517",
   "metadata": {},
   "outputs": [],
   "source": [
    "print(f\"Maximum Drawdown: {ddn_max}\")"
   ]
  },
  {
   "cell_type": "code",
   "execution_count": null,
   "id": "f0185daf-663d-451c-ae43-ecda2b7e1951",
   "metadata": {},
   "outputs": [],
   "source": [
    "v = gwf.output.budget().get_data(text=\"riv\", totim=4.0)[0][\"q\"]\n",
    "print(f\"Induced river infiltration: {np.all(v > 0)}\\n{v}\")"
   ]
  },
  {
   "cell_type": "markdown",
   "id": "2da398fe-f574-4b5b-98ae-252131075f46",
   "metadata": {},
   "source": [
    "### Streamflow results"
   ]
  },
  {
   "cell_type": "code",
   "execution_count": null,
   "id": "c09295a5-6ed3-4a53-83de-f891b5133adf",
   "metadata": {},
   "outputs": [],
   "source": [
    "df = riv.output.obs().get_dataframe()\n",
    "df[\"PF\"] /= -86400\n",
    "df[\"RIVFLOW\"] /= -86400\n",
    "df[\"TOTAL\"] = df[\"PF\"] + df[\"RIVFLOW\"]\n",
    "df"
   ]
  },
  {
   "cell_type": "code",
   "execution_count": null,
   "id": "d16f2ed7-6b9d-4d20-9758-ff0c784dfcc5",
   "metadata": {},
   "outputs": [],
   "source": [
    "Q = df[\"TOTAL\"].values\n",
    "Q"
   ]
  },
  {
   "cell_type": "code",
   "execution_count": null,
   "id": "f7cfc572-8461-41e8-866a-28841136dea0",
   "metadata": {},
   "outputs": [],
   "source": [
    "with flopy.plot.styles.USGSPlot():\n",
    "    fig, axs = plt.subplots(2, 1, figsize=(9, 3), sharex=True)\n",
    "\n",
    "    fig.suptitle(\"Southern Boundary - Gage 1\")\n",
    "\n",
    "    ax = axs[0]\n",
    "    ax.set_ylim(5, 12)\n",
    "    ax.plot(df[\"totim\"], Q, ls=\"-\", marker=\"o\", clip_on=False)\n",
    "    ax.set_ylabel(\"River\\nDischarge, cfs\")\n",
    "\n",
    "    ax = axs[1]\n",
    "    ax.set_ylim(0, 50)\n",
    "    ax.plot(df[\"totim\"], -100. * (Q - Q[0]) / Q[0], ls=\"-\", marker=\"o\", clip_on=False)\n",
    "    ax.set_ylabel(\"Reduction\\n in River\\nDischarge, %\")\n",
    "    ax.set_xlabel(\"Stress Period\")\n",
    "    ax.set_xticks([1, 2, 3, 4], [\"Calibration\", \"Case A\", \"Case B\", \"Extra Run\"])\n"
   ]
  },
  {
   "cell_type": "code",
   "execution_count": null,
   "id": "6268f1fd-9c30-4256-90d0-935eb3911ba0",
   "metadata": {},
   "outputs": [],
   "source": [
    "Q = df[\"PF\"].values\n",
    "Q"
   ]
  },
  {
   "cell_type": "code",
   "execution_count": null,
   "id": "2b851b57-6559-4180-87fb-d548b4c22a75",
   "metadata": {},
   "outputs": [],
   "source": [
    "with flopy.plot.styles.USGSPlot():\n",
    "    fig, axs = plt.subplots(2, 1, figsize=(9, 3), sharex=True)\n",
    "\n",
    "    fig.suptitle(\"Pollock's Ford - Gage 2\")\n",
    "\n",
    "    ax = axs[0]\n",
    "    ax.set_ylim(1, 1.6)\n",
    "    ax.plot(df[\"totim\"], Q, ls=\"-\", marker=\"o\", clip_on=False)\n",
    "    ax.set_ylabel(\"River\\nDischarge, cfs\")\n",
    "\n",
    "    ax = axs[1]\n",
    "    ax.set_ylim(0, 50)\n",
    "    ax.plot(df[\"totim\"], -100. * (Q - Q[0]) / Q[0], ls=\"-\", marker=\"o\", clip_on=False)\n",
    "    ax.set_ylabel(\"Reduction\\n in River\\nDischarge, %\")\n",
    "    ax.set_xlabel(\"Stress Period\")\n",
    "    ax.set_xticks([1, 2, 3, 4], [\"Calibration\", \"Case A\", \"Case B\", \"Extra Run\"])\n"
   ]
  },
  {
   "cell_type": "markdown",
   "id": "e3dd0d44-f0cc-47dc-8e78-f7aec4d078cd",
   "metadata": {},
   "source": [
    "### Lake stage"
   ]
  },
  {
   "cell_type": "code",
   "execution_count": null,
   "id": "ffd77ba1-6cae-49e8-a959-02983f992992",
   "metadata": {},
   "outputs": [],
   "source": [
    "fpth = ws / \"mv.gwf.scenario.csv\""
   ]
  },
  {
   "cell_type": "code",
   "execution_count": null,
   "id": "b3335ee6-ee0e-423d-88ce-cd21ddc69cf7",
   "metadata": {},
   "outputs": [],
   "source": [
    "df = flopy.utils.Mf6Obs(fpth).get_dataframe()\n",
    "df"
   ]
  },
  {
   "cell_type": "code",
   "execution_count": null,
   "id": "20943164-1409-41a0-8732-cf755352f0f8",
   "metadata": {},
   "outputs": [],
   "source": [
    "with flopy.plot.styles.USGSPlot():\n",
    "    fig, ax = plt.subplots(1, 1, figsize=(9, 1.5))\n",
    "\n",
    "    ax.plot(df[\"totim\"], df[\"LAKE-N\"], ls=\"-\", marker=\"o\",)\n",
    "    ax.set_ylabel(\"Lake\\nStage, ft\")\n",
    "    ax.set_xlabel(\"Stress Period\")\n",
    "    ax.set_xticks([1, 2, 3, 4], [\"Calibration\", \"Case A\", \"Case B\", \"Extra Run\"])\n",
    "    ax.set_ylim(8, 12)\n"
   ]
  }
 ],
 "metadata": {
  "kernelspec": {
   "display_name": "Python 3 (ipykernel)",
   "language": "python",
   "name": "python3"
  },
  "language_info": {
   "codemirror_mode": {
    "name": "ipython",
    "version": 3
   },
   "file_extension": ".py",
   "mimetype": "text/x-python",
   "name": "python",
   "nbconvert_exporter": "python",
   "pygments_lexer": "ipython3",
   "version": "3.11.11"
  }
 },
 "nbformat": 4,
 "nbformat_minor": 5
}
